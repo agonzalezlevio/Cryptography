{
  "nbformat": 4,
  "nbformat_minor": 0,
  "metadata": {
    "colab": {
      "name": "frequency_analysis.ipynb",
      "provenance": [],
      "collapsed_sections": [],
      "authorship_tag": "ABX9TyPg6nqViAQ2Tx/HG/S3d3K0"
    },
    "kernelspec": {
      "name": "python3",
      "display_name": "Python 3"
    }
  },
  "cells": [
    {
      "cell_type": "markdown",
      "metadata": {
        "id": "SnUI3q455znE"
      },
      "source": [
        "## **Análisis de frecuencias**"
      ]
    },
    {
      "cell_type": "code",
      "metadata": {
        "id": "p8awk55Q0XOg"
      },
      "source": [
        "import matplotlib.pylab as plt\n",
        "\n",
        "#Estas son las cartas que nos interesan cuando se trata de análisis de frecuencias.\n",
        "#EL ESPACIO EN BLANCO ES LA 'LETRA' MÁS FRECUENTE EN EL ALFABETO INGLÉS.\n",
        "LETTERS = 'ABCDEFGHIJKLMNOPQRSTUVWXYZ'"
      ],
      "execution_count": 8,
      "outputs": []
    },
    {
      "cell_type": "code",
      "metadata": {
        "id": "3s7ehlG52MNV"
      },
      "source": [
        "#el método para hacer análisis de frecuencia: sólo contamos las ocurrencias de los personajes dados\n",
        "def frequency_analysis(plain_text):\n",
        "\n",
        "\t#el texto que analizamos\n",
        "\tplain_text = plain_text.upper()\n",
        "\n",
        "\t#Usamos un diccionario para guardar el par de frecuencia de las letras\n",
        "\tletter_frequency = {}\n",
        "\n",
        "\t#inicializar el diccionario (por supuesto con frecuencias 0)\n",
        "\tfor letter in LETTERS:\n",
        "\t\tletter_frequency[letter] = 0\n",
        "\t\t\n",
        "\t#consideremos el texto que queremos analizar\t\n",
        "\tfor letter in plain_text:\n",
        "\t\t#seguimos incrementando la ocurrencia de la letra dada\t\n",
        "\t\tif letter in LETTERS:\n",
        "\t\t\tletter_frequency[letter] += 1\n",
        "\t\t\t\n",
        "\treturn letter_frequency\n"
      ],
      "execution_count": 9,
      "outputs": []
    },
    {
      "cell_type": "code",
      "metadata": {
        "id": "oyjBKlqd2gUK"
      },
      "source": [
        "#Traza el histograma de los pares de letras-frecuencias\n",
        "def plot_distribution(letter_frequency):\n",
        "\tplt.bar(letter_frequency.keys(), letter_frequency.values())\n",
        "\tplt.xlim([0,len(LETTERS)-1])\n",
        "\tplt.show()"
      ],
      "execution_count": 10,
      "outputs": []
    },
    {
      "cell_type": "code",
      "metadata": {
        "id": "4DQih-I62oUi"
      },
      "source": [
        "plain_text = '''JNRZR BNIGI BJRGZ IZLQR OTDNJ GRIHT USDKR ZZWLG OIBTM NRGJN\n",
        "IJTZJ LZISJ NRSBL QVRSI ORIQT QDEKJ JNRQW GLOFN IJTZX QLFQL\n",
        "WBIMJ ITQXT HHTBL KUHQL JZKMM LZRNT OBIMI EURLW BLQZJ GKBJT\n",
        "QDIQS LWJNR OLGRI EZJGK ZRBGS MJLDG IMNZT OIHRK MOSOT QHIJL\n",
        "QBRJN IJJNT ZFIZL WIZTO MURZM RBTRZ ZKBNN LFRVR GIZFL KUHIM\n",
        "MRIGJ LJNRB GKHRT QJRUU RBJLW JNRZI TULGI EZLUK JRUST QZLUK\n",
        "EURFT JNLKJ JNRXR S'''"
      ],
      "execution_count": 11,
      "outputs": []
    },
    {
      "cell_type": "code",
      "metadata": {
        "id": "vV0fDleg2wAa",
        "colab": {
          "base_uri": "https://localhost:8080/",
          "height": 303
        },
        "outputId": "824c435e-51d1-4f88-912a-7b9d1a3fe3d9"
      },
      "source": [
        "frequencies = frequency_analysis(plain_text)\n",
        "print(frequencies)\n",
        "plot_distribution(frequencies)"
      ],
      "execution_count": 12,
      "outputs": [
        {
          "output_type": "stream",
          "text": [
            "{'A': 0, 'B': 15, 'C': 0, 'D': 5, 'E': 5, 'F': 6, 'G': 15, 'H': 8, 'I': 27, 'J': 30, 'K': 13, 'L': 25, 'M': 12, 'N': 19, 'O': 10, 'P': 0, 'Q': 16, 'R': 33, 'S': 9, 'T': 20, 'U': 12, 'V': 2, 'W': 7, 'X': 3, 'Y': 0, 'Z': 24}\n"
          ],
          "name": "stdout"
        },
        {
          "output_type": "display_data",
          "data": {
            "image/png": "[encoded data removed]",
            "text/plain": [
              "<Figure size 432x288 with 1 Axes>"
            ]
          },
          "metadata": {
            "tags": [],
            "needs_background": "light"
          }
        }
      ]
    }
  ]
}