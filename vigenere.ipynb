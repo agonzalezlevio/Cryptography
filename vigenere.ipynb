{
  "nbformat": 4,
  "nbformat_minor": 0,
  "metadata": {
    "colab": {
      "name": "vigenere.ipynb",
      "provenance": [],
      "authorship_tag": "ABX9TyPtJpfSlwxKBAkn0gvf0jpK"
    },
    "kernelspec": {
      "name": "python3",
      "display_name": "Python 3"
    }
  },
  "cells": [
    {
      "cell_type": "markdown",
      "metadata": {
        "id": "2kF98YJm6DZz"
      },
      "source": [
        "## **Cifrado Vigenère**"
      ]
    },
    {
      "cell_type": "code",
      "metadata": {
        "id": "OC1qTHFpSI3S"
      },
      "source": [
        "#Necesitamos el alfabeto porque convertimos las letras en valores numéricos para poder usar\n",
        "#Operaciones matemáticas (note que también encriptamos los espacios)\n",
        "ALPHABET = ' ABCDEFGHIJKLMNOPQRSTUVWXYZ'\n",
        "#ALPHABET = [chr(x) for x in range(ord('a'),ord('z')+1)]"
      ],
      "execution_count": null,
      "outputs": []
    },
    {
      "cell_type": "code",
      "metadata": {
        "id": "6KlKe3bYSaOe"
      },
      "source": [
        "#el algoritmo de Vigenere\n",
        "def vigenere_encrypt(plain_text, key):\n",
        "\n",
        "\t#Este es el texto que queremos encriptar\n",
        "\tplain_text = plain_text.upper()\n",
        "  #Hacemos que el algoritmo sea insensible a las mayúsculas y minúsculas\n",
        "\tkey = key.upper()\n",
        "\t\n",
        "\tcipher_text = ''\n",
        "  #Representa el índice en lo que respecta a la clave\n",
        "\tkey_index = 0\n",
        "\t\n",
        "#Tenemos que considerar todos los caracteres en el texto plano\n",
        "\tfor character in plain_text:\n",
        "\t\t#número de desplazamientos = índice del carácter en el alfabeto + índice del carácter en la clave\n",
        "\t\tindex = (ALPHABET.find(character)+(ALPHABET.find(key[key_index])))%len(ALPHABET)\n",
        "\t\t#Mantener el carácter encriptado en el texto_codificado\n",
        "\t\tcipher_text = cipher_text + ALPHABET[index]\n",
        "\t\t\n",
        "\t\t#incrementamos el índice de la clave porque consideramos que la siguiente letra\n",
        "\t\tkey_index = key_index + 1\n",
        "\n",
        "#Si hemos considerado la última letra de la llave, empezamos de nuevo\n",
        "\t\tif key_index == len(key):\n",
        "\t\t\tkey_index = 0\n",
        "\t\t\t\n",
        "\treturn cipher_text\n",
        "\t"
      ],
      "execution_count": null,
      "outputs": []
    },
    {
      "cell_type": "code",
      "metadata": {
        "id": "MoaDjJWHS7tX"
      },
      "source": [
        "#La desencriptación es la misma, excepto que ahora usamos la siguiente fórmula:\n",
        "#número de desplazamientos = índice del carácter en el alfabeto - índice del carácter en la clave\n",
        "def vigenere_decrypt(cipher_text, key):\n",
        "\n",
        "\tcipher_text = cipher_text.upper()\n",
        "\tkey = key.upper()\n",
        "\t\n",
        "\tplain_text = ''\n",
        "\tkey_index = 0\n",
        "\t\n",
        "\tfor character in cipher_text:\n",
        "\t\tindex = (ALPHABET.find(character)-(ALPHABET.find(key[key_index])))%len(ALPHABET)\n",
        "\t\tplain_text = plain_text + ALPHABET[index]\n",
        "\t\t\n",
        "\t\tkey_index = key_index + 1\n",
        "\t\t\n",
        "\t\tif key_index == len(key):\n",
        "\t\t\tkey_index = 0\n",
        "\t\t\t\n",
        "\treturn plain_text"
      ],
      "execution_count": null,
      "outputs": []
    },
    {
      "cell_type": "code",
      "metadata": {
        "id": "duKtXgqUTKgj",
        "colab": {
          "base_uri": "https://localhost:8080/",
          "height": 34
        },
        "outputId": "edc03093-b853-4fd3-c8ba-1621fe784f22"
      },
      "source": [
        "plain_text = 'Hola mundo'\n",
        "encrypted = vigenere_encrypt(plain_text,'crypto')\n",
        "print('Mensaje encriptado: %s' % encrypted)\n"
      ],
      "execution_count": null,
      "outputs": [
        {
          "output_type": "stream",
          "text": [
            "Mensaje encriptado: KFJQTAXEBD\n"
          ],
          "name": "stdout"
        }
      ]
    },
    {
      "cell_type": "code",
      "metadata": {
        "id": "5CiCo_usTWic",
        "colab": {
          "base_uri": "https://localhost:8080/",
          "height": 34
        },
        "outputId": "e1ae7e5c-b7f9-4138-c9e8-f36d9df98333"
      },
      "source": [
        "decrypted = vigenere_decrypt(encrypted,'crypto')\n",
        "print('Mensaje desencriptado: %s' % decrypted)"
      ],
      "execution_count": null,
      "outputs": [
        {
          "output_type": "stream",
          "text": [
            "Mensaje desencriptado: HOLA MUNDO\n"
          ],
          "name": "stdout"
        }
      ]
    }
  ]
}