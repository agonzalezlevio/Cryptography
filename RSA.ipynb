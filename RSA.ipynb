{
  "nbformat": 4,
  "nbformat_minor": 0,
  "metadata": {
    "colab": {
      "name": "RSA-Alejandro_González_Evaluación2.ipynb",
      "provenance": [],
      "collapsed_sections": [
        "-2WujHczsY87",
        "s_JheyqauxD8"
      ],
      "authorship_tag": "ABX9TyNo9cErfAh4EjlZNVhsVb8Z"
    },
    "kernelspec": {
      "name": "python3",
      "display_name": "Python 3"
    }
  },
  "cells": [
    {
      "cell_type": "markdown",
      "metadata": {
        "id": "6NmQzhApjfoP"
      },
      "source": [
        "##  **Criptosistema  RSA**\n",
        "\n",
        "*   Alejandro González.\n",
        "*   Universidad de La Frontera.\n",
        "*   Ingeniería Civil Informática.\n",
        "\n",
        "El criptosistema RSA es uno de los famosos algoritmos de seguridad que se compone de tres fases: generación de claves, proceso de cifrado y proceso de descifrado.\n",
        "\n",
        "#### **A. Generación de claves.**\n",
        "\n",
        "1. Seleccionar p y q ambos números primos, p no es igual a q.\n",
        "1. Calcular ${\\rm n}={\\rm p} \\times {\\rm q}$.\n",
        "3. Calcular $\\phi({\\rm n})=({\\rm p}-1)\\times ({\\rm q}-1)$.\n",
        "4. Seleccionar el número entero(clave pública) ${\\rm e}$ cuya ${\\rm gcd}({\\rm e}, \\phi({\\rm n})) =1;\\; 1<{\\rm e}<\\phi({\\rm n})$, es decir ${\\rm e}$ deber ser co-primo con $\\phi({\\rm n})$.\n",
        "5. Calcular la clave privada ${\\rm d}={\\rm e}^{-1} ({\\rm mod} \\phi({\\rm n}))$.\n",
        "6. Clave pública ${\\rm PU}=\\{{\\rm n},{\\rm e}\\}$.\n",
        "7. Clave privada ${\\rm PR} =\\{{\\rm n}, {\\rm d}\\}$.\n",
        "\n",
        "#### **B. Proceso de cifrado.**\n",
        "\n",
        "Texto claro: ${\\rm M}$.\n",
        "\n",
        "Texto cifrado: ${\\rm C}={\\rm M}^{\\rm e} {\\rm mod \\ n}$.\n",
        "\n",
        "#### **C. Proceso de descifrado.**\n",
        "\n",
        "Texto cifrado: $\\rm C$.\n",
        "\n",
        "Texto claro: ${\\rm M}={\\rm C}^{\\rm d} {\\rm mod \\ n}$.\n",
        "\n",
        "\n",
        "\n",
        "El algoritmo RSA es uno de los famosos criptosistemas de seguridad basados en la teoría de los números. El método RSA asegura que la información es confidencial y autenticada, por lo que proporciona una comunicación segura. Su seguridad se basa en la dificultad de factorizar números muy grandes. Basado en este principio, el cifrado RSA utiliza la factorización de primos como la trampilla para el cifrado. Utiliza una encriptación de clave pública en la que cualquiera utiliza la clave pública para encriptar los datos y enviarlos. Proporciona autenticación y seguridad con el fin de proporcionar una clave privada para descifrar la información, por lo que sólo el receptor seleccionado la puede descifrar [1]. El algoritmo RSA se utiliza tanto para el cifrado de datos como para la firma digital.\n",
        "\n",
        "\n",
        "#### **Referencias**\n",
        "[1] R. Patidar and R. Bhartiya, 2013, \"Modified RSA cryptosystem based on offline storage and prime number\", 2013 IEEE International Conference on Computational Intelligence and Computing Research, Enathi.\n",
        "\n",
        "[2] GeeksforGeeks, \"Euclidean algorithms (Basic and Extended)\", Accedido el: 23 de Junio del 2020. [Online]. Disponible en: www.geeksforgeeks.org/euclidean-algorithms-basic-and-extended.\n",
        "\n",
        "[3] Al Sweigart, 2018, \"Cracking Codes with Python: An Introduction to Building and Breaking Ciphers\", No Starch Press, USA.  \n"
      ]
    },
    {
      "cell_type": "markdown",
      "metadata": {
        "id": "5Bw-z4LtTO9B"
      },
      "source": [
        "#### **Importaciones**"
      ]
    },
    {
      "cell_type": "code",
      "metadata": {
        "id": "MfOq_zoMImb6"
      },
      "source": [
        "import math, random"
      ],
      "execution_count": null,
      "outputs": []
    },
    {
      "cell_type": "markdown",
      "metadata": {
        "id": "NPsEuzNLSo4h"
      },
      "source": [
        "#### **Generación de claves.**"
      ]
    },
    {
      "cell_type": "code",
      "metadata": {
        "id": "Yq3aAd_N0udE"
      },
      "source": [
        "# Devuelve una lista de números primos menores calculados con el algoritmo de la criba de Eratóstenes.\n",
        "def primeSieve(sieveSize):\n",
        "    sieve = [True] * sieveSize\n",
        "    sieve[0] = False # El 0 y el 1 no son números primos.\n",
        "    sieve[1] = False\n",
        "    \n",
        "    # Se crea la criba\n",
        "    for i in range(2, int(math.sqrt(sieveSize)) + 1):\n",
        "        pointer = i * 2\n",
        "        while pointer < sieveSize:\n",
        "            sieve[pointer] = False\n",
        "            pointer += i\n",
        "\n",
        "    # Se crea la lista de primos.\n",
        "    primes = []\n",
        "    for i in range(sieveSize):\n",
        "        if sieve[i] == True:\n",
        "            primes.append(i)\n",
        "    return primes"
      ],
      "execution_count": null,
      "outputs": []
    },
    {
      "cell_type": "code",
      "metadata": {
        "id": "w6mvBaqsEAng"
      },
      "source": [
        "# Devuelve true si num es un número primo.\n",
        "# Se utiliza las pruebas de primalidad con el algoritmo Rabin-Miller.\n",
        "def rabinMiller(num):\n",
        "    if num % 2 == 0 or num < 2:\n",
        "        return False # Rabin-Miller no funciona con números enteros pares.\n",
        "    if num == 3:\n",
        "        return True\n",
        "\n",
        "    s = num - 1\n",
        "    t = 0\n",
        "    while s % 2 == 0:\n",
        "        # Sigue reduciendo a la mitad s mientras sea par (y usa la t para contar cuántas veces reducimos a la mitad s).\n",
        "        s = s // 2\n",
        "        t += 1\n",
        "    for trials in range(5): # Trata de falsificar la primalidad de num's 5 veces.\n",
        "        a = random.randrange(2, num - 1)\n",
        "        v = pow(a, s, num)\n",
        "        if v != 1: # Esta prueba no se aplica si v es 1.\n",
        "            i = 0\n",
        "            while v != (num - 1):\n",
        "                if i == t - 1:\n",
        "                    return False\n",
        "                else:\n",
        "                    i = i + 1\n",
        "                    v = (v ** 2) % num\n",
        "    return True"
      ],
      "execution_count": null,
      "outputs": []
    },
    {
      "cell_type": "code",
      "metadata": {
        "id": "vxCW_buVs_Wq"
      },
      "source": [
        "# Devuelve True si num es un número primo. \n",
        "# Esta función hace una comprobación más rápida de los números primos antes de llamar a rabinMiller()\n",
        "def isPrime(num):\n",
        "    if (num < 2):\n",
        "        return False # 0, 1, y los números negativos no son primos.\n",
        "\n",
        "    # Alrededor de 1/3 del tiempo podemos determinar rápidamente si num no es primo \n",
        "    # utilizando directamente los primeros números primos para comprobar.\n",
        "    # Esto es más rápido que rabinMiller(), pero a diferencia de rabinMiller() no está garantizado para probar que un número es primo.\n",
        "    LOW_PRIMES = primeSieve(100)\n",
        "\n",
        "    # Ver si el número se encuentra entre los primos menores\n",
        "    # o si alguno de los números primos menores puede dividir el número:\n",
        "    for prime in LOW_PRIMES:\n",
        "        if (num == prime):\n",
        "            return True\n",
        "        if (num % prime == 0):\n",
        "            return False\n",
        "\n",
        "    # Si todo lo demás falla, llama a rabinMiller() y determina si num es un primo para una prueba de primalidad más completa.\n",
        "    return rabinMiller(num)"
      ],
      "execution_count": null,
      "outputs": []
    },
    {
      "cell_type": "code",
      "metadata": {
        "id": "xSA0oK5ztJeh"
      },
      "source": [
        "# Devuelve un número primo aleatorio a partir del tamaño de la clave.\n",
        "def generateLargePrime(keysize=1024):\n",
        "    while True:\n",
        "        num = random.randrange(2**(keysize-1), 2**(keysize))\n",
        "        if isPrime(num):\n",
        "            return num"
      ],
      "execution_count": null,
      "outputs": []
    },
    {
      "cell_type": "code",
      "metadata": {
        "id": "Eu0PNpxeaSf4"
      },
      "source": [
        "# Devuelve true si p y q son co-primos.\n",
        "def isCoPrime(p, q):\n",
        "    return gcd(p, q) == 1"
      ],
      "execution_count": null,
      "outputs": []
    },
    {
      "cell_type": "code",
      "metadata": {
        "id": "BxphkadOnvXk"
      },
      "source": [
        "# Devuelve el inverso multiplicativo de a % m.\n",
        "def findModularInverse(a, m): \n",
        "\t  g, x, y = egcd(a, m)\n",
        "\t  if g == 1:\n",
        "\t    \treturn x % m"
      ],
      "execution_count": null,
      "outputs": []
    },
    {
      "cell_type": "code",
      "metadata": {
        "id": "ufrrRe42gMEw"
      },
      "source": [
        "#Implementación el algoritmo euclidiano extendido. \n",
        "def egcd(a, b):  \n",
        "    # Caso base.  \n",
        "    if a == 0 :   \n",
        "        return (b, 0, 1)\n",
        "    gcd, x1, y1 = egcd(b%a, a)  \n",
        "\n",
        "    # Actualizar x e y usando los resultados de la llamada recursiva.  \n",
        "    x = y1 - (b//a) * x1  \n",
        "    y = x1  \n",
        "    return gcd, x, y"
      ],
      "execution_count": null,
      "outputs": []
    },
    {
      "cell_type": "code",
      "metadata": {
        "id": "KIxcSzXEKqqQ"
      },
      "source": [
        "# Devuelve el Máximo Común Divisor de a y b usando el Algoritmo de Euclides.\n",
        "def gcd(a, b):\n",
        "    while a != 0:\n",
        "        a, b = b % a, a\n",
        "    return b"
      ],
      "execution_count": null,
      "outputs": []
    },
    {
      "cell_type": "code",
      "metadata": {
        "id": "whj1WYII6dCd"
      },
      "source": [
        "# Crea una clave pública/privada según el tamaño de la clave.\n",
        "def generateKey(keySize):\n",
        "    p = 0\n",
        "    q = 0\n",
        "\n",
        "    # Paso 1: Crear dos números primos, p y q distintos.\n",
        "    while p == q:\n",
        "        p = generateLargePrime(keySize)\n",
        "        q = generateLargePrime(keySize)\n",
        "        \n",
        "    # Paso 2: Calcular n = p * q.\n",
        "    n = p * q\n",
        "    print(\"p: \",p)\n",
        "    print(\"q: \",q)\n",
        "    print(\"n: \",n)\n",
        "\n",
        "    # Paso 3: A continuación, necesitamos operar la función totient de Euler \\phi(n) que se define como \\phi(n) = (p-1)*(q-1):\n",
        "    phi = (p - 1) * (q - 1) \n",
        "    print(\"phi: \", phi)\n",
        "\n",
        "    # Paso 4: Crear un número e que sea co-primo a (p-1)*(q-1):\n",
        "    while True:\n",
        "        # Prueba de números al azar para e hasta que uno sea válido:\n",
        "        e = random.randrange(2 ** (keySize - 1), 2 ** (keySize))\n",
        "        if isCoPrime(e, phi): # e deber ser co-primo con \\phi.\n",
        "            break\n",
        "    print(\"e: \",e)\n",
        "\n",
        "    # Paso 5: Calculo de d, el módulo inverso de e:\n",
        "    d = findModularInverse(e, phi)\n",
        "    print(\"d: \",d)\n",
        "\n",
        "    # Paso 6: Clave pública:\n",
        "    publicKey = (keySize, n, e)\n",
        "    # Paso 7: Clave privada:\n",
        "    privateKey = (keySize, n, d)\n",
        "\n",
        "    print('Clave pública:', publicKey)\n",
        "    print('Clave privada:', privateKey)\n",
        "    return (publicKey, privateKey)"
      ],
      "execution_count": null,
      "outputs": []
    },
    {
      "cell_type": "markdown",
      "metadata": {
        "id": "a2Wmpl2nSy-A"
      },
      "source": [
        "#### **Proceso de cifrado y descifrado (con caracteres).**"
      ]
    },
    {
      "cell_type": "code",
      "metadata": {
        "id": "7tjqg9GUgy67"
      },
      "source": [
        "# Para efectos más prácticos se trabajará con caracteres el cifrado y descifrado.\n",
        "\n",
        "# Convierte el mensaje original en una lista de caracteres encriptados.\n",
        "# Se debe pasar la clave PÚBLICA para encriptar.\n",
        "def encryptChar(message, key):\n",
        "    encryptedText = []\n",
        "    keySize, n, e = key\n",
        "    for char in message:\n",
        "        # texto_cifrado = (texto_claro ^ e) mod n\n",
        "        encryptedText.append(str(pow(ord(char), e, n))) # pow(base, exponente, módulo)\n",
        "    return encryptedText\n",
        "\n",
        "# Convierte una lista de caracteres encriptados a la cadena del mensaje original.\n",
        "# Se debe pasar la llave PRIVADA para desencriptar.\n",
        "def decryptChar(encryptedText, key):\n",
        "    decryptText = []\n",
        "    keySize, n, d = key\n",
        "    for char in encryptedText:\n",
        "        # texto_claro = (texto_cifrado ^ d) mod n \n",
        "        decryptText.append(chr(pow(int(char), d, n))) # pow(base, exponente, módulo)\n",
        "    return (decryptText)"
      ],
      "execution_count": null,
      "outputs": []
    },
    {
      "cell_type": "code",
      "metadata": {
        "id": "ErDr2NNYzpoq"
      },
      "source": [
        "# Devuelve un string plano según una lista de caracteres. \n",
        "def convertCharsToString(s): \n",
        "  str1 = \"\" \n",
        "  return(str1.join(s)) "
      ],
      "execution_count": null,
      "outputs": []
    },
    {
      "cell_type": "markdown",
      "metadata": {
        "id": "oXBMUWCYTddI"
      },
      "source": [
        "#### **Utilización del RSA (con caracteres).**"
      ]
    },
    {
      "cell_type": "code",
      "metadata": {
        "id": "oCzOxgLIraW_"
      },
      "source": [
        "# Texto a encriptar\n",
        "message = \"La prueba está fácil\""
      ],
      "execution_count": null,
      "outputs": []
    },
    {
      "cell_type": "code",
      "metadata": {
        "id": "h0weegq9rpUn",
        "colab": {
          "base_uri": "https://localhost:8080/",
          "height": 153
        },
        "outputId": "033cd047-e90c-40ef-fbd6-a701ba23daa0"
      },
      "source": [
        "# Generación de llaves\n",
        "publicKey, privateKey = generateKey(16)"
      ],
      "execution_count": null,
      "outputs": [
        {
          "output_type": "stream",
          "text": [
            "p:  47629\n",
            "q:  32969\n",
            "n:  1570280501\n",
            "phi:  1570199904\n",
            "e:  45779\n",
            "d:  1439244155\n",
            "Clave pública: (16, 1570280501, 45779)\n",
            "Clave privada: (16, 1570280501, 1439244155)\n"
          ],
          "name": "stdout"
        }
      ]
    },
    {
      "cell_type": "code",
      "metadata": {
        "id": "BbocK5VHuLfo",
        "colab": {
          "base_uri": "https://localhost:8080/",
          "height": 54
        },
        "outputId": "d6359a3f-53c6-4071-f7bc-433bf95cdfcf"
      },
      "source": [
        "# Cifrado del mensaje\n",
        "encryptMessage = encryptChar(message, publicKey)\n",
        "print(encryptMessage)"
      ],
      "execution_count": null,
      "outputs": [
        {
          "output_type": "stream",
          "text": [
            "['1358898744', '451526149', '6695840', '590881341', '45511556', '849194119', '699730229', '958893609', '451526149', '6695840', '699730229', '1104628392', '333659739', '1503435204', '6695840', '1304216043', '1503435204', '129333192', '116653175', '871851452']\n"
          ],
          "name": "stdout"
        }
      ]
    },
    {
      "cell_type": "code",
      "metadata": {
        "id": "CVgYydbNvFoS",
        "colab": {
          "base_uri": "https://localhost:8080/",
          "height": 34
        },
        "outputId": "424b8c4f-9bc5-4f90-9948-ae89f6725faa"
      },
      "source": [
        "# Descifrado del mensaje\n",
        "decryptMessage = decryptChar(encryptMessage, privateKey)\n",
        "print(decryptMessage)"
      ],
      "execution_count": null,
      "outputs": [
        {
          "output_type": "stream",
          "text": [
            "['L', 'a', ' ', 'p', 'r', 'u', 'e', 'b', 'a', ' ', 'e', 's', 't', 'á', ' ', 'f', 'á', 'c', 'i', 'l']\n"
          ],
          "name": "stdout"
        }
      ]
    },
    {
      "cell_type": "markdown",
      "metadata": {
        "id": "-2WujHczsY87"
      },
      "source": [
        "#### **Proceso de cifrado y descifrado (con bloques).**"
      ]
    },
    {
      "cell_type": "code",
      "metadata": {
        "id": "Tmp58yRXtBVD"
      },
      "source": [
        "import sys\n",
        "# Tamaño máximo de los caracteres (basado en Unicode)\n",
        "CHARACTERS_SIZE = sys.maxunicode\n",
        "\n",
        "#Convierte un mensaje de texto en una lista de bloque de números enteros.\n",
        "def getBlocksFromText(message, blockSize):\n",
        "    blockInts = []\n",
        "    for blockStart in range(0, len(message), blockSize):\n",
        "        # Calcula el bloque de números enteros para este bloque de texto:\n",
        "        blockInt = 0\n",
        "        for i in range(blockStart, min(blockStart + blockSize, len(message))):\n",
        "            blockInt += ord(message[i]) * (CHARACTERS_SIZE ** (i % blockSize))\n",
        "        blockInts.append(blockInt)\n",
        "    return blockInts\n",
        "\n",
        "# Convierte una lista de bloques de números enteros en la cadena de mensaje original.\n",
        "# La longitud del mensaje original es necesaria para convertir correctamente el último bloque de números enteros.\n",
        "def getTextFromBlocks(blockInts, messageLength, blockSize):\n",
        "    message = []\n",
        "    for blockInt in blockInts:\n",
        "        blockMessage = []\n",
        "        for i in range(blockSize - 1, -1, -1):\n",
        "            if len(message) + i < messageLength:\n",
        "                # Decodifica la cadena de mensajes para el blockSize establecido de caracteres de este bloque de números enteros:\n",
        "                charIndex = blockInt // (CHARACTERS_SIZE ** i)\n",
        "                blockInt = blockInt % (CHARACTERS_SIZE ** i)\n",
        "                blockMessage.insert(0, chr(charIndex))\n",
        "        message.extend(blockMessage)\n",
        "    return ''.join(message)\n",
        "\n",
        "# Convierte la cadena de mensajes en una lista de bloques de números enteros, y luego encripta cada bloque de números enteros. \n",
        "# Se debe pasar la clave PÚBLICA para encriptar.\n",
        "def encryptMessage(message, key, blockSize):\n",
        "    encryptedBlocks = []\n",
        "    n, e = key\n",
        "    for block in getBlocksFromText(message, blockSize):\n",
        "        # texto_cifrado = (texto_claro ^ e) mod n\n",
        "        encryptedBlocks.append(pow(block, e, n))\n",
        "    return encryptedBlocks\n",
        "\n",
        "# Descifra una lista de bloques de números enteros encriptados en la cadena de mensaje original. \n",
        "# La longitud del mensaje original es necesaria para desencriptar correctamente el último bloque. \n",
        "# Se debe pasar la clave PRIVADA para desencriptar.\n",
        "def decryptMessage(encryptedBlocks, messageLength, key, blockSize):\n",
        "    decryptedBlocks = []\n",
        "    n, d = key\n",
        "    for block in encryptedBlocks:\n",
        "        # texto_claro = (texto_cifrado ^ d) mod n \n",
        "        decryptedBlocks.append(pow(block, d, n))\n",
        "    return getTextFromBlocks(decryptedBlocks, messageLength, blockSize)\n",
        "\n",
        "def encryptBlock(message, key, blockSize=None):\n",
        "    keySize, n, e = key\n",
        "\n",
        "    if blockSize == None:\n",
        "        # Si no se indica blockSize, se configura al mayor tamaño permitido por el tamaño de la clave y del alfabeto.\n",
        "        blockSize = int(math.log(2 ** keySize, CHARACTERS_SIZE))\n",
        "\n",
        "    # Comprueba que el tamaño de la llave es lo suficientemente grande para el tamaño del bloque:\n",
        "    if not (math.log(2 ** keySize, CHARACTERS_SIZE) >= blockSize):\n",
        "        print('El tamaño del bloque es demasiado grande para el tamaño del conjunto de claves y alfabeto.')\n",
        "    \n",
        "    # Cifra el mensaje:\n",
        "    encryptedBlocks = encryptMessage(message, (n, e), blockSize)\n",
        "\n",
        "    # Convierte los bloques de números enteros en un sola cadena de string:\n",
        "    for i in range(len(encryptedBlocks)):\n",
        "        encryptedBlocks[i] = str(encryptedBlocks[i])\n",
        "    encryptedContent = ','.join(encryptedBlocks)\n",
        "\n",
        "    # Se añade el tamaño del mensaje, tamaño de los bloques y el mensaje cifrado:\n",
        "    encryptedContent = '%s_%s_%s' % (len(message), blockSize, encryptedContent)\n",
        "   \n",
        "    # Devuelve la cadena encriptada:\n",
        "    return encryptedContent\n",
        "\n",
        "# Devuelve la cadena de mensajes desencriptados.\n",
        "def decryptBlock(message, key):\n",
        "    keySize, n, d = key\n",
        "\n",
        "    # Leer el tamaño del mensaje, tamaño de los bloques y el mensaje cifrado:\n",
        "    messageLength, blockSize, encryptedMessage = message.split('_')\n",
        "    messageLength = int(messageLength)\n",
        "    blockSize = int(blockSize)\n",
        "\n",
        "    # Comprueba que el tamaño de la llave es lo suficientemente grande para el tamaño del bloque:\n",
        "    if not (math.log(2 ** keySize, CHARACTERS_SIZE) >= blockSize):\n",
        "        print('El tamaño del bloque es demasiado grande para el tamaño del conjunto de claves y alfabeto.')\n",
        "\n",
        "    # Convierte el mensaje cifrado en valores de números enteros:\n",
        "    encryptedBlocks = []\n",
        "    for block in encryptedMessage.split(','):\n",
        "        encryptedBlocks.append(int(block))\n",
        "\n",
        "    # Descifra los bloques de números enteros:\n",
        "    return decryptMessage(encryptedBlocks, messageLength, (n, d), blockSize)"
      ],
      "execution_count": null,
      "outputs": []
    },
    {
      "cell_type": "markdown",
      "metadata": {
        "id": "s_JheyqauxD8"
      },
      "source": [
        "#### **Utilización del RSA (con bloques).**"
      ]
    },
    {
      "cell_type": "code",
      "metadata": {
        "id": "2098pC4ptMNZ"
      },
      "source": [
        "# Texto a encriptar\n",
        "message2 = \"Hola, Здравейте, नमस्ते, 안녕\""
      ],
      "execution_count": null,
      "outputs": []
    },
    {
      "cell_type": "code",
      "metadata": {
        "id": "GhXQd3NBtoIJ",
        "colab": {
          "base_uri": "https://localhost:8080/",
          "height": 173
        },
        "outputId": "b05efe13-b68a-4c28-d8cb-54dc4ca6f927"
      },
      "source": [
        "# Generación de llaves\n",
        "publicKey2, privateKey2 = generateKey(1024)"
      ],
      "execution_count": null,
      "outputs": [
        {
          "output_type": "stream",
          "text": [
            "p:  115644391111579703929219921276691156119296222978453971555380488728191620773424911804867977143551310084411642809265940644180225687887738753696248607389518769782145804512291564139511258952377181981499747314503396080794103732309202051379987025298518194366654797596702293756863170311100362959238825246801241412489\n",
            "q:  138208002985060384886568252532974458968743775313552588752164690960110878390016324282685291241283344843107193489639789281194297213529563119099306741126750394758418143147998479484327498839940606804327079126543309582160397311163132528904161944312332633653281475517583394157405459624851056857071771285667806464473\n",
            "n:  15982980351954698362154570480405520188255196714875411009808635465637352053451932946488584929655125001362321232016529325429487683827545888421655553318080445869240144763577515412294513114308398474837813387314754008972933270650849408207273319138149153448607055485870343458799312118091992359499854175554803563362633030355163813583669223436471595187944139413268317150928656528770160843324396807975438486164584498982959936752152400347761300556253096380375879891175254565623198600737874754656821528889089686414715918764613067211043922623035653327457099966337497039899090654726038957361898668276823822142779258586631717003297\n",
            "phi:  15982980351954698362154570480405520188255196714875411009808635465637352053451932946488584929655125001362321232016529325429487683827545888421655553318080445869240144763577515412294513114308398474837813387314754008972933270650849408207273319138149153448607055485870343458799312118091992359499854175554803563362379177961067173494853435262661929572856099414976310590621111349081858344160955571887885217779749844055441100453246670422386777654835794507580324542658985401082634653077584711032982771096771897628889092323566361548089421579563318747172950996726646211879154381611753269447630038340872402326468662054162669126336\n",
            "e:  131135437102747804092321830335650058773480566369396667856790901668019090352017840877504222184015022321744907924912496766905275769048873604157083271037879895083738672092106117055952634648318292894682907077496893359271390217912726571997299220544080638983721702565743908251289445452918306007549788381370208187317\n",
            "d:  5898680686471171731068582652692953591003578098937240416814913027989128424133062919269797454043238355203596117327989451052738431736310656033798044959330885330775155323337697232771381912437594092749320841621611650130747559228379899329798535528779084276264335033330176970306467033059486045664385131362946786613852756162042190157205003594326940789182441641121821488054011336534213877900048135633287346478004909382363300310142412498847958023101618499433675626609732478786116111462786588349420152037047935834012595666091100289838589011028788303876885764070763679844455325148500138816467868000477616422777790485463579767581\n",
            "Clave pública: (1024, 15982980351954698362154570480405520188255196714875411009808635465637352053451932946488584929655125001362321232016529325429487683827545888421655553318080445869240144763577515412294513114308398474837813387314754008972933270650849408207273319138149153448607055485870343458799312118091992359499854175554803563362633030355163813583669223436471595187944139413268317150928656528770160843324396807975438486164584498982959936752152400347761300556253096380375879891175254565623198600737874754656821528889089686414715918764613067211043922623035653327457099966337497039899090654726038957361898668276823822142779258586631717003297, 131135437102747804092321830335650058773480566369396667856790901668019090352017840877504222184015022321744907924912496766905275769048873604157083271037879895083738672092106117055952634648318292894682907077496893359271390217912726571997299220544080638983721702565743908251289445452918306007549788381370208187317)\n",
            "Clave privada: (1024, 15982980351954698362154570480405520188255196714875411009808635465637352053451932946488584929655125001362321232016529325429487683827545888421655553318080445869240144763577515412294513114308398474837813387314754008972933270650849408207273319138149153448607055485870343458799312118091992359499854175554803563362633030355163813583669223436471595187944139413268317150928656528770160843324396807975438486164584498982959936752152400347761300556253096380375879891175254565623198600737874754656821528889089686414715918764613067211043922623035653327457099966337497039899090654726038957361898668276823822142779258586631717003297, 5898680686471171731068582652692953591003578098937240416814913027989128424133062919269797454043238355203596117327989451052738431736310656033798044959330885330775155323337697232771381912437594092749320841621611650130747559228379899329798535528779084276264335033330176970306467033059486045664385131362946786613852756162042190157205003594326940789182441641121821488054011336534213877900048135633287346478004909382363300310142412498847958023101618499433675626609732478786116111462786588349420152037047935834012595666091100289838589011028788303876885764070763679844455325148500138816467868000477616422777790485463579767581)\n"
          ],
          "name": "stdout"
        }
      ]
    },
    {
      "cell_type": "code",
      "metadata": {
        "id": "Z5rm1rTetrVa",
        "colab": {
          "base_uri": "https://localhost:8080/",
          "height": 54
        },
        "outputId": "524a2c7b-1e68-4ef6-a56a-e82fa21211f0"
      },
      "source": [
        "# Cifrado del mensaje\n",
        "encryptMessage2 = encryptBlock(message2, publicKey2)\n",
        "print(encryptMessage2)"
      ],
      "execution_count": null,
      "outputs": [
        {
          "output_type": "stream",
          "text": [
            "27_50_342379825153366256960892598578772163642523089429887924545238939333145172203880229020903538992496051535574967407198960783408024982734179694551191506683447733281512301024734330630493978153956817764410453519312537918954725254169763771506927104207965622472828693653806490626462925710889180520724970663262280132685974492660981927979249732861137452702079426512791844699367963444775512096755846205796221541410323298440115344952675370942529414122900927522861885365205027282877124763886737493394994340098598030332292303959473153198455538618289099786777722308610957974749140250204326306411971228759155410471938886035525857099\n"
          ],
          "name": "stdout"
        }
      ]
    },
    {
      "cell_type": "code",
      "metadata": {
        "id": "PucvD_Ott0O5",
        "colab": {
          "base_uri": "https://localhost:8080/",
          "height": 34
        },
        "outputId": "f2cd6140-9796-43ec-b47b-1fdc2e06bac6"
      },
      "source": [
        "# Descifrado del mensaje\n",
        "decryptMessage2 = decryptBlock(encryptMessage2, privateKey2)\n",
        "print(decryptMessage2)"
      ],
      "execution_count": null,
      "outputs": [
        {
          "output_type": "stream",
          "text": [
            "Hola, Здравейте, नमस्ते, 안녕\n"
          ],
          "name": "stdout"
        }
      ]
    }
  ]
}