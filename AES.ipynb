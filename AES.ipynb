{
  "nbformat": 4,
  "nbformat_minor": 0,
  "metadata": {
    "colab": {
      "name": "AES-Alejandro_Gonzalez.ipynb",
      "provenance": [],
      "authorship_tag": "ABX9TyPWvTOoPsOaQVtxW524S7L6"
    },
    "kernelspec": {
      "name": "python3",
      "display_name": "Python 3"
    }
  },
  "cells": [
    {
      "cell_type": "markdown",
      "metadata": {
        "id": "W5hE_dd92ikN"
      },
      "source": [
        "\n",
        "## **Advanced Encryption Standard**\n",
        "El Estándar de Cifrado Avanzado (AES) fue desarrollado para reemplazar al DES. La publicación del Estándar Federal de Procesamiento de Información (FIPS) del AES especifica un algoritmo criptográfico para su uso por las organizaciones del gobierno de los Estados Unidos.  Sin embargo, el AES también será ampliamente utilizado por organizaciones, instituciones e individuos fuera del Gobierno de los Estados Unidos [1].\n",
        "\n",
        "AES está incluido en un tipo de algoritmo criptográfico de simetría y un bloque de cifrado. Así, este algoritmo utiliza la misma clave para el cifrado y descifrado, y su entrada y salida son bloques con un cierto número de bits [2].\n",
        "\n",
        "El algoritmo del Estándar de Cifrado Avanzado (AES) es capaz de utilizar claves criptográficas de 128, 192 y 256 bits para cifrar y descifrar datos en bloques de 128 bits. Dado que el algoritmo AES puede utilizarse con tres longitudes de clave diferentes, estos tres \"sabores\" diferentes se denominan generalmente \"AES-128\", \"AES-192\" y \"AES-256\". "
      ]
    },
    {
      "cell_type": "markdown",
      "metadata": {
        "id": "AezEv7Ww-3md"
      },
      "source": [
        "## Implementación\n",
        "Para la correcta implementación se trabajara con la biblioteca PyCrypto, la cual es una colección de funciones hash seguras (como SHA256 y RIPEMD160), y varios algoritmos de encriptación (AES, DES, RSA, ElGamal, etc.) [3].\n",
        "\n",
        "###  Modos de los cifrados en bloque.\n",
        "\n",
        "Los algoritmos de cifrado de bloque como AES separan el mensaje en pedazos de tamaño fijo, por ejemplo  128 bits. La forma en que se gestionan estos pedazos o bloques de mensaje, se denomina \"modo de cifrado\" y pueden ser ejecutados de diferentes maneras. \n",
        "\n",
        "Actualmente, el NIST ha aprobado catorce modos de los cifrados en bloque aprobados en una serie de publicaciones especiales. Como se resume en la página de Modos actuales, hay ocho modos de confidencialidad (ECB, CBC, OFB, CFB, CTR, XTS-AES, FF1 y FF3), un modo de autenticación (CMAC) y cinco modos combinados de confidencialidad y autenticación (CCM, GCM, KW, KWP y TKW).\n",
        "\n",
        "Para este ejemplo se usara:\n",
        "\n",
        "* ECB (Electronic codebook): Este modo de cifrado es el más simple de todos, pues se limita a partir el mensaje en bloques y cifrarlos por separado.\n",
        "\n",
        "### El problema del padding.\n",
        "El algoritmo AES utiliza entradas de 128 bits de longitud: ¿Qué pasa si el texto plano no es divisible por 128? En estos casos se añaden algunos bits extra al texto plano para poder dividirlo en trozos de 128 bits.\n",
        "\n",
        "#### Modos de acolchado: \n",
        "1. CMS (Cryptographic Message Syntax): Este relleno tiene el mismo valor que el número de bytes de rellenado. \n",
        "2. Null's: Este relleno será NULL bytes. Esto sólo se usa con texto ASCII.\n",
        "3. Space: Este rellena con espacios. Esto sólo se usa con texto ASCII.\n",
        "4. Bits: Se rellena con bits extras, ejemplo 0x80 (10000000).\n",
        "\n",
        "Para este ejemplo se usara:\n",
        "* Space: Rellenando con espacios en blanco."
      ]
    },
    {
      "cell_type": "code",
      "metadata": {
        "id": "ootx84mABpn0",
        "colab": {
          "base_uri": "https://localhost:8080/",
          "height": 34
        },
        "outputId": "973a7965-d2d7-4131-9fe3-3a6d91b322cb"
      },
      "source": [
        "#Instalación PyCrypto\n",
        "!pip install pyCrypto ## Python Cryptography Toolkit"
      ],
      "execution_count": null,
      "outputs": [
        {
          "output_type": "stream",
          "text": [
            "Requirement already satisfied: pyCrypto in /usr/local/lib/python3.6/dist-packages (2.6.1)\n"
          ],
          "name": "stdout"
        }
      ]
    },
    {
      "cell_type": "code",
      "metadata": {
        "id": "VZyHLzlu4iCF"
      },
      "source": [
        "#Importación de bibliotecas\n",
        "from Crypto.Cipher import AES\n",
        "from Crypto import Random\n",
        "import binascii"
      ],
      "execution_count": null,
      "outputs": []
    },
    {
      "cell_type": "code",
      "metadata": {
        "id": "cqdBTl0NG6rx"
      },
      "source": [
        "# Añadir espacios de relleno, en este caso un espacio en blanco \" \".\n",
        "def agregar_padding(str, blocksize=128):\n",
        "\tpad_len = blocksize - (len(str) % blocksize)  \n",
        "\tpadding = ' '*pad_len\n",
        "\treturn str + padding\n"
      ],
      "execution_count": null,
      "outputs": []
    },
    {
      "cell_type": "code",
      "metadata": {
        "id": "-2erW1_iG_Dw"
      },
      "source": [
        "# Remover espacios de relleno\n",
        "def remover_padding(str, blocksize=128):\n",
        "    pad_len = 0 \n",
        "\t\n",
        "    for char in str[::-1]: \n",
        "        if char == ' ':\n",
        "            pad_len += 1\n",
        "        else:\n",
        "            break\n",
        "\n",
        "    str = str[:-pad_len]\n",
        "   \n",
        "    return str"
      ],
      "execution_count": null,
      "outputs": []
    },
    {
      "cell_type": "code",
      "metadata": {
        "id": "G9jOkxQeHT-I"
      },
      "source": [
        "# Encriptar\n",
        "def encriptar(plaintext, key):\n",
        "\tdes = AES.new(key, AES.MODE_ECB)\n",
        "\treturn des.encrypt(plaintext)\n"
      ],
      "execution_count": null,
      "outputs": []
    },
    {
      "cell_type": "code",
      "metadata": {
        "id": "gwK7_1DtHZvp"
      },
      "source": [
        "# Desencriptar\n",
        "def desencriptar(ciphertext, key):\n",
        "\tdes = AES.new(key, AES.MODE_ECB)\n",
        "\treturn des.decrypt(ciphertext).decode('UTF-8')\n"
      ],
      "execution_count": null,
      "outputs": []
    },
    {
      "cell_type": "code",
      "metadata": {
        "id": "eONUTFhcHiGI",
        "colab": {
          "base_uri": "https://localhost:8080/",
          "height": 50
        },
        "outputId": "44b0710b-566e-4e1c-bdd6-3549d61d3d57"
      },
      "source": [
        "# Clave de 128 bits = 16 bytes\n",
        "clave = Random.new().read(16)\n",
        "print('Clave: ', clave)\n",
        "texto_claro = \"Hola Mundo\"\n",
        "texto_claro_con_padding = agregar_padding(texto_claro)\n",
        "print('Texto claro (con relleno): ', texto_claro_con_padding)"
      ],
      "execution_count": null,
      "outputs": [
        {
          "output_type": "stream",
          "text": [
            "Clave:  b'\\xf7\\xa8Q3\\xd8\\xca\\xe8)\\x97\\xe9nj\\xb5x\\xc3\\xfd'\n",
            "Texto claro (con relleno):  Hola Mundo                                                                                                                      \n"
          ],
          "name": "stdout"
        }
      ]
    },
    {
      "cell_type": "code",
      "metadata": {
        "id": "k-i-riFzITm9",
        "colab": {
          "base_uri": "https://localhost:8080/",
          "height": 54
        },
        "outputId": "d2b2a6e9-da19-4c33-ee47-70f4bc177004"
      },
      "source": [
        "# Cifrado del texto\n",
        "texto_cifrado = encriptar(texto_claro_con_padding, clave)\n",
        "print('Texto cifrado: ', binascii.hexlify(bytearray(texto_cifrado)))"
      ],
      "execution_count": null,
      "outputs": [
        {
          "output_type": "stream",
          "text": [
            "Texto cifrado:  b'e480a0388a731f49ada3f3dd12420c02ee5244b94ab581e1228bee6e12b20f30ee5244b94ab581e1228bee6e12b20f30ee5244b94ab581e1228bee6e12b20f30ee5244b94ab581e1228bee6e12b20f30ee5244b94ab581e1228bee6e12b20f30ee5244b94ab581e1228bee6e12b20f30ee5244b94ab581e1228bee6e12b20f30'\n"
          ],
          "name": "stdout"
        }
      ]
    },
    {
      "cell_type": "code",
      "metadata": {
        "id": "C_NOTG4pIwco",
        "colab": {
          "base_uri": "https://localhost:8080/",
          "height": 34
        },
        "outputId": "c69697a0-3332-4850-c8f4-c9fedffd297d"
      },
      "source": [
        "# Descifrado del texto\n",
        "texto_descifrado = desencriptar(texto_cifrado, clave)\n",
        "texto_descifrado = remover_padding(texto_descifrado)\n",
        "print(\"Texto descifrado:\", texto_descifrado)"
      ],
      "execution_count": null,
      "outputs": [
        {
          "output_type": "stream",
          "text": [
            "Texto descifrado: Hola Mundo\n"
          ],
          "name": "stdout"
        }
      ]
    },
    {
      "cell_type": "markdown",
      "metadata": {
        "id": "uulihpoa_fx0"
      },
      "source": [
        "#### Referencias.\n",
        "[1] J. Schaad, «Use of the Advanced Encryption Standard (AES) Encryption Algorithm in Cryptographic Message Syntax (CMS),» RFC, 2003. \n",
        "\n",
        "[2] R. Andriani, S. E. Wijayanti y F. W. Wibowo, «Comparision Of AES 128, 192 And 256 Bit Algorithm For Encryption And Description File,» 3rd International Conference on Information Technology, Information System and Electrical Engineering (ICITISEE), 2018. \n",
        "\n",
        "[3] PyCrypto, [En Línea], Disponible en: www.pypi.org/project/pycrypto\n",
        "\n",
        "#### Tutoriales.\n",
        "Código aprendido del curso de Udemy *Learn Cryptography Basics in Python and Java*.\n"
      ]
    }
  ]
}