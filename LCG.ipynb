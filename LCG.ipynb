{
  "nbformat": 4,
  "nbformat_minor": 0,
  "metadata": {
    "colab": {
      "name": "lcg-2.ipynb",
      "provenance": [],
      "authorship_tag": "ABX9TyMOxge3670gT9c7Uus5smA2"
    },
    "kernelspec": {
      "name": "python3",
      "display_name": "Python 3"
    }
  },
  "cells": [
    {
      "cell_type": "markdown",
      "metadata": {
        "id": "LyjzVmii5R_V"
      },
      "source": [
        "# Linear Congruential Generator (LCG)\n",
        "El Generador Lineal Congruente (LCG) es un método popular y muy utilizado para generar números aleatorios. El LCG fue inventado por D.H Lehmer. El LCG utiliza un modelo lineal para generar un número aleatorio definido de la siguiente manera:\n",
        "\n",
        "$\\begin{equation*} X_{n+1}=(aX_{n}+c) { mod} \\ m \\end{equation*}$\n",
        "\n",
        "Donde $a$ es el multiplicador, $c$ es el factor de incremento y $m$ es el módulo. Los parámetros $a$, $c$ y $m$ deben elegirse cuidadosamente para evitar la repetición de números similares antes de $m$.\n",
        "\n",
        "El módulo m debe ser un gran número entero primo, mientras que el multiplicador a debe ser un número entero en el rango $2,3,...,m-1$. La longitud del ciclo de la LCG nunca excedería el módulo m, pero podría ser maximizado usando las tres condiciones siguientes:\n",
        "\n",
        "1. c es relativamente primo al módulo m;\n",
        "2. El multiplicador $a-1$ es un múltiplo de cada módulo $m$ divisor;\n",
        "3. El multiplicador $a-1$ es un múltiplo de cuatro cuando el módulo m es también un múltiplo de cuatro.\n",
        "\n",
        "Imamah, \"One Time Password (OTP) Based on Advanced Encrypted Standard (AES) and Linear Congruential Generator(LCG),\" 2018 Electrical Power, Electronics, Communications, Controls and Informatics Seminar (EECCIS), Batu, East Java, Indonesia, 2018, pp. 391-394, doi: 10.1109/EECCIS.2018.8692931.\n"
      ]
    },
    {
      "cell_type": "markdown",
      "metadata": {
        "id": "M4VQqiIOU-RE"
      },
      "source": [
        "# Generadores congruenciales\n",
        "En los generadores congruenciales lineales se considera una combinación lineal de los últimos $k$ enteros generados y se calcula su resto al dividir por un entero fijo $m$ . En el método congruencial simple (de orden $k = 1$ ), partiendo de una semilla inicial $x_0$ , el algoritmo secuencial es el siguiente:\n",
        "\n",
        "$\\begin{aligned}\n",
        "x_{i}  & = (ax_{i-1}+c) \\bmod m \\\\\n",
        "u_{i}  & = \\dfrac{x_{i}}{m} \\\\\n",
        "i  & =1,2,\\ldots\n",
        "\\end{aligned}$\n",
        "\n",
        "donde $a$ (multiplicador), $c$ (incremento) y $m$ (módulo) son parámetros enteros del generador fijados de antemano. Si c = 0 el generador se denomina congruencial multiplicativo (Lehmer, 1951) y en caso contrario se dice que es mixto (Rotenburg, 1960).\n",
        "\n",
        "Fuente: https://rubenfcasal.github.io/simbook/gen-cong.html"
      ]
    },
    {
      "cell_type": "markdown",
      "metadata": {
        "id": "8U4SgpwHNaqn"
      },
      "source": [
        "# Linear congruential generator\n",
        "Recordemos que el generador lineal congruente utiliza la recursividad $X_{n+1} = aX_{n} + c\\mod (m)$ donde $a, c, m \\in\\mathbb{Z}_{+}$ son parámetros fijos. Por lo tanto, toda la secuencia se determina por la \"semilla\" $X_0$.\n",
        "\n",
        "Fuente: https://www4.stat.ncsu.edu/~laber/lcg.html"
      ]
    },
    {
      "cell_type": "code",
      "metadata": {
        "id": "TQQYonR8S0QD"
      },
      "source": [
        "import numpy as np\n",
        "import matplotlib;\n",
        "import matplotlib.pyplot as plt; # for plotting"
      ],
      "execution_count": null,
      "outputs": []
    },
    {
      "cell_type": "code",
      "metadata": {
        "id": "I_A3QL4HNTxD"
      },
      "source": [
        "def lcg (n, x0, a, c, m):\n",
        "    prs = [];\n",
        "    xn = x0;\n",
        "    for i in range (n):\n",
        "        xn = (a*xn + c) % m;\n",
        "        prs.append (xn);\n",
        "    return prs;\n"
      ],
      "execution_count": null,
      "outputs": []
    },
    {
      "cell_type": "code",
      "metadata": {
        "id": "P0Zlyjt8NbS9",
        "colab": {
          "base_uri": "https://localhost:8080/",
          "height": 34
        },
        "outputId": "e57f32d1-dd68-4f9e-d081-b213cbf328a4"
      },
      "source": [
        "print(lcg(10, 0, a=5, c=1, m=8));"
      ],
      "execution_count": null,
      "outputs": [
        {
          "output_type": "stream",
          "text": [
            "[1, 6, 7, 4, 5, 2, 3, 0, 1, 6]\n"
          ],
          "name": "stdout"
        }
      ]
    },
    {
      "cell_type": "code",
      "metadata": {
        "id": "OrmkDLwlPXdO",
        "colab": {
          "base_uri": "https://localhost:8080/",
          "height": 278
        },
        "outputId": "6d719ca1-1552-4758-949d-03d46ff5f866"
      },
      "source": [
        "# Páramteros de Park-Miller\n",
        "x0 = 123;\n",
        "a  = 7**5;\n",
        "c  = 0;\n",
        "m  = 2**31 - 1;\n",
        "\n",
        "n = 500;\n",
        "\n",
        "x1 = lcg (n, x0, a, c, m);\n",
        "plt.style.use('seaborn-pastel')\n",
        "plt.hist(x1)\n",
        "plt.show ();"
      ],
      "execution_count": null,
      "outputs": [
        {
          "output_type": "display_data",
          "data": {
            "image/png": "[encoded data removed]",
            "text/plain": [
              "<Figure size 432x288 with 1 Axes>"
            ]
          },
          "metadata": {
            "tags": [],
            "needs_background": "light"
          }
        }
      ]
    },
    {
      "cell_type": "code",
      "metadata": {
        "id": "cidnMN4uSamg",
        "colab": {
          "base_uri": "https://localhost:8080/",
          "height": 265
        },
        "outputId": "3ab90fce-4f86-4eb2-c0fb-b7e5e99ed44d"
      },
      "source": [
        "x2 = np.random.rand(n)     # Python\n",
        "plt.style.use('seaborn-pastel')\n",
        "plt.hist(x2)\n",
        "plt.show();"
      ],
      "execution_count": null,
      "outputs": [
        {
          "output_type": "display_data",
          "data": {
            "image/png": "[encoded data removed]",
            "text/plain": [
              "<Figure size 432x288 with 1 Axes>"
            ]
          },
          "metadata": {
            "tags": [],
            "needs_background": "light"
          }
        }
      ]
    }
  ]
}