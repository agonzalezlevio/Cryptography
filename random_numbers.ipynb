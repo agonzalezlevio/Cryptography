{
  "nbformat": 4,
  "nbformat_minor": 0,
  "metadata": {
    "colab": {
      "name": "Auto-Evaluación.ipynb",
      "provenance": [],
      "authorship_tag": "ABX9TyNeY8LnLNmWBQ5aiixpvZvV"
    },
    "kernelspec": {
      "name": "python3",
      "display_name": "Python 3"
    }
  },
  "cells": [
    {
      "cell_type": "markdown",
      "metadata": {
        "id": "8ndRuJsIaqJn"
      },
      "source": [
        "# ¿Qué es un \"Mersenne Twister\" y para qué se usa? \n",
        "El Mersenne Twister es un método de generación de números pseudo-aleatorios (PRNG's). Fue desarrollado por Makoto Matsumoto y Takuji Nishimura en 1997 y se ha convertido en el algoritmo más efectivo. El método se basa en una matriz de recurrencia lineal sobre un campo binario finito donde la longitud del período es un primo de Mersenne.[1] De hecho, los números aleatorios del Mersenne Twister tienen el colosal período de $2^{19937}-1$ iteraciones , se ha demostrado que son equidistantes en (hasta) $K=623$ dimensiones, y pueden generarse más rápidamente que otros generadores estadísticamente razonables. [2]\n",
        "Se utiliza ampliamente en muchas aplicaciones desde simulaciones hasta modelos generativos, en lenguajes de programación se presenta en el método mt_rand() en PHP y random.random() en Python.\n"
      ]
    },
    {
      "cell_type": "code",
      "metadata": {
        "id": "Ilr2vHywbJSP",
        "colab": {
          "base_uri": "https://localhost:8080/",
          "height": 34
        },
        "outputId": "a24ecfbd-1ae2-4b4b-edda-fb705b91ea4a"
      },
      "source": [
        "import numpy as np\n",
        "np.random.rand(1)     # Python's built-in random number generator"
      ],
      "execution_count": null,
      "outputs": [
        {
          "output_type": "execute_result",
          "data": {
            "text/plain": [
              "array([0.17090778])"
            ]
          },
          "metadata": {
            "tags": []
          },
          "execution_count": 3
        }
      ]
    },
    {
      "cell_type": "markdown",
      "metadata": {
        "id": "jdO6HU2kcAou"
      },
      "source": [
        "# ¿Por qué los generadores de números aleatorios por congruencias lineales no son buenos criptográficamente hablando? \n",
        "Los generadores pseudo-aleatorios son aquellos que producen secuencias de valores a partir de información inicial (denominada semilla). Para el mismo valor de la semilla, siempre se genera la misma secuencia. Muchos de estos generadores, como los generadores de congruencia lineal, no están diseñados para criptografía por lo que sólo generan secuencias que se comportan como si fueran aleatorias desde un punto de vista puramente estadístico. Lamentablemente, con ellos es relativamente fácil deducir la secuencia completa a partir de un pequeño fragmento de la misma, por lo que si un atacante descubriera un valor que se ha utilizado en el pasado, podría calcular cualquier otro valor; pasado o futuro.\n"
      ]
    },
    {
      "cell_type": "markdown",
      "metadata": {
        "id": "0UxXIIavcZQ9"
      },
      "source": [
        "# ¿Qué significa que un generador de números aleatorios sea \"criptográficamente seguro?\n",
        "Para que un generador pseudo-aleatorio sea criptográficamente seguro, debe ser **indistinguible** de un generador verdaderamente aleatorio para todos aquellos que no conocen la semilla. Esto significa esencialmente que debe ser **impredecible** (en ausencia de la semilla), la observación de un fragmento arbitrario de la secuencia no permite adivinar ningún otro fragmento, por muchos valores previos que se conozcan.\n",
        "Los generadores aleatorios propiamente tal no tienen semillas: las secuencias generadas simplemente no pueden reproducirse, pero las computadoras son máquinas deterministas, por lo que no se pueden producir secuencias verdaderamente aleatorias sin la utilización de elementos externos.\n",
        "\n"
      ]
    },
    {
      "cell_type": "markdown",
      "metadata": {
        "id": "uGoDqgGTcipt"
      },
      "source": [
        "# ¿Se usan los PRNG's en el método AES de encriptación simétrica?\n",
        "En estricto rigor no, el algoritmo del Estándar de Cifrado Avanzado (AES) es un esquema de cifrado por bloques capaz de utilizar claves criptográficas de 128, 192 y 256 bits para cifrar y descifrar datos en bloques de 128 bits. Sin embargo, el algoritmo AES se divide en cuatro fases diferentes, que se ejecutan de forma secuencial formando rondas. La codificación se logra pasando el texto plano por una ronda inicial, 9 rondas iguales y una ronda final. En todas las fases de cada ronda, el algoritmo funciona con una matriz de 4×4 bytes (llamada el Estado). [3]\n",
        "Podría utilizarse números pseudo-aleatorios para generar una clave de determinados bits, por ejemplo en python con la biblioteca pyCrypto y el método Random.new().read(16) genera una clave aleatoria de 16 bytes equivalente a 128 bits y puede emplearse para AES.\n",
        "\n"
      ]
    },
    {
      "cell_type": "code",
      "metadata": {
        "id": "mvW5DIyndwcV",
        "colab": {
          "base_uri": "https://localhost:8080/",
          "height": 207
        },
        "outputId": "8565b922-debc-462d-81b2-1ff8433c5a60"
      },
      "source": [
        "!pip install pyCrypto ## Python Cryptography Toolki\n"
      ],
      "execution_count": null,
      "outputs": [
        {
          "output_type": "stream",
          "text": [
            "Collecting pyCrypto\n",
            "\u001b[?25l  Downloading https://files.pythonhosted.org/packages/60/db/645aa9af249f059cc3a368b118de33889219e0362141e75d4eaf6f80f163/pycrypto-2.6.1.tar.gz (446kB)\n",
            "\r\u001b[K     |▊                               | 10kB 21.4MB/s eta 0:00:01\r\u001b[K     |█▌                              | 20kB 6.5MB/s eta 0:00:01\r\u001b[K     |██▏                             | 30kB 7.7MB/s eta 0:00:01\r\u001b[K     |███                             | 40kB 7.7MB/s eta 0:00:01\r\u001b[K     |███▊                            | 51kB 7.3MB/s eta 0:00:01\r\u001b[K     |████▍                           | 61kB 8.3MB/s eta 0:00:01\r\u001b[K     |█████▏                          | 71kB 8.0MB/s eta 0:00:01\r\u001b[K     |█████▉                          | 81kB 8.8MB/s eta 0:00:01\r\u001b[K     |██████▋                         | 92kB 8.5MB/s eta 0:00:01\r\u001b[K     |███████▍                        | 102kB 8.9MB/s eta 0:00:01\r\u001b[K     |████████                        | 112kB 8.9MB/s eta 0:00:01\r\u001b[K     |████████▉                       | 122kB 8.9MB/s eta 0:00:01\r\u001b[K     |█████████▌                      | 133kB 8.9MB/s eta 0:00:01\r\u001b[K     |██████████▎                     | 143kB 8.9MB/s eta 0:00:01\r\u001b[K     |███████████                     | 153kB 8.9MB/s eta 0:00:01\r\u001b[K     |███████████▊                    | 163kB 8.9MB/s eta 0:00:01\r\u001b[K     |████████████▌                   | 174kB 8.9MB/s eta 0:00:01\r\u001b[K     |█████████████▏                  | 184kB 8.9MB/s eta 0:00:01\r\u001b[K     |██████████████                  | 194kB 8.9MB/s eta 0:00:01\r\u001b[K     |██████████████▊                 | 204kB 8.9MB/s eta 0:00:01\r\u001b[K     |███████████████▍                | 215kB 8.9MB/s eta 0:00:01\r\u001b[K     |████████████████▏               | 225kB 8.9MB/s eta 0:00:01\r\u001b[K     |█████████████████               | 235kB 8.9MB/s eta 0:00:01\r\u001b[K     |█████████████████▋              | 245kB 8.9MB/s eta 0:00:01\r\u001b[K     |██████████████████▍             | 256kB 8.9MB/s eta 0:00:01\r\u001b[K     |███████████████████             | 266kB 8.9MB/s eta 0:00:01\r\u001b[K     |███████████████████▉            | 276kB 8.9MB/s eta 0:00:01\r\u001b[K     |████████████████████▋           | 286kB 8.9MB/s eta 0:00:01\r\u001b[K     |█████████████████████▎          | 296kB 8.9MB/s eta 0:00:01\r\u001b[K     |██████████████████████          | 307kB 8.9MB/s eta 0:00:01\r\u001b[K     |██████████████████████▊         | 317kB 8.9MB/s eta 0:00:01\r\u001b[K     |███████████████████████▌        | 327kB 8.9MB/s eta 0:00:01\r\u001b[K     |████████████████████████▎       | 337kB 8.9MB/s eta 0:00:01\r\u001b[K     |█████████████████████████       | 348kB 8.9MB/s eta 0:00:01\r\u001b[K     |█████████████████████████▊      | 358kB 8.9MB/s eta 0:00:01\r\u001b[K     |██████████████████████████▍     | 368kB 8.9MB/s eta 0:00:01\r\u001b[K     |███████████████████████████▏    | 378kB 8.9MB/s eta 0:00:01\r\u001b[K     |████████████████████████████    | 389kB 8.9MB/s eta 0:00:01\r\u001b[K     |████████████████████████████▋   | 399kB 8.9MB/s eta 0:00:01\r\u001b[K     |█████████████████████████████▍  | 409kB 8.9MB/s eta 0:00:01\r\u001b[K     |██████████████████████████████  | 419kB 8.9MB/s eta 0:00:01\r\u001b[K     |██████████████████████████████▉ | 430kB 8.9MB/s eta 0:00:01\r\u001b[K     |███████████████████████████████▋| 440kB 8.9MB/s eta 0:00:01\r\u001b[K     |████████████████████████████████| 450kB 8.9MB/s \n",
            "\u001b[?25hBuilding wheels for collected packages: pyCrypto\n",
            "  Building wheel for pyCrypto (setup.py) ... \u001b[?25l\u001b[?25hdone\n",
            "  Created wheel for pyCrypto: filename=pycrypto-2.6.1-cp36-cp36m-linux_x86_64.whl size=499939 sha256=6b7406ebd76dcae1c0474702f26ac866ee28be6f36f2a750baed72efb5c25954\n",
            "  Stored in directory: /root/.cache/pip/wheels/27/02/5e/77a69d0c16bb63c6ed32f5386f33a2809c94bd5414a2f6c196\n",
            "Successfully built pyCrypto\n",
            "Installing collected packages: pyCrypto\n",
            "Successfully installed pyCrypto-2.6.1\n"
          ],
          "name": "stdout"
        }
      ]
    },
    {
      "cell_type": "code",
      "metadata": {
        "id": "ae7_Fp4HcyJO",
        "colab": {
          "base_uri": "https://localhost:8080/",
          "height": 34
        },
        "outputId": "85556910-81ea-4182-c1e7-e183a86f36bf"
      },
      "source": [
        "import sys\n",
        "from Crypto import Random\n",
        "\n",
        "#key en 128 bits = 16 bytes\n",
        "key = Random.new().read(16)\n",
        "print(int.from_bytes(key, sys.byteorder))"
      ],
      "execution_count": null,
      "outputs": [
        {
          "output_type": "stream",
          "text": [
            "200761617359356257576195205406599431438\n"
          ],
          "name": "stdout"
        }
      ]
    },
    {
      "cell_type": "markdown",
      "metadata": {
        "id": "E2NmSXKoa4nW"
      },
      "source": [
        "Fuentes.\n",
        "\n",
        "[1] T. T. Le and S. Narayanan, \"MultiStage ASIC implementation of the Mersenne Twister pseudorandom number generator,\" 2014 IEEE Fifth International Conference on Communications and Electronics (ICCE), Danang, 2014, pp. 332-335, doi: 10.1109/CCE.2014.6916725.\n",
        "\n",
        "[2] X. Tian y K. Benkrid, \"Mersenne Twister Random Number Generation on FPGA, CPU and GPU\", Conferencia de la NASA/ESA 2009 sobre hardware y sistemas adaptables,San Francisco, CA, 2009, págs. 460-464, doi: 10.1109/AHS.2009.11.\n",
        "\n",
        "[3] S. H. Kamali, R. Shakerian, M. Hedayati and M. Rahmani, \"A new modified version of Advanced Encryption Standard based algorithm for image encryption,\" 2010 International Conference on Electronics and Information Engineering, Kyoto, 2010, pp. V1-141-V1-145, doi: 10.1109/ICEIE.2010.5559902.\n"
      ]
    }
  ]
}